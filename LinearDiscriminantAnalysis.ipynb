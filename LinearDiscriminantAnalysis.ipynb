{
 "cells": [
  {
   "cell_type": "markdown",
   "metadata": {},
   "source": [
    "#Linear Discriminant Analysis\n",
    "###The basics and a juxtaposition with Principal Component Analysis.\n",
    "<font color=\"gray\">Jan 7, 2017 </br>\n",
    "by Praneeth Kandula </font>"
   ]
  },
  {
   "cell_type": "code",
   "execution_count": 553,
   "metadata": {
    "collapsed": true
   },
   "outputs": [],
   "source": [
    "#Load libraries\n",
    "import numpy as np\n",
    "import pandas as pd\n",
    "import matplotlib.pyplot as plt\n",
    "%matplotlib inline\n",
    "import math"
   ]
  },
  {
   "cell_type": "code",
   "execution_count": 14,
   "metadata": {},
   "outputs": [
    {
     "data": {
      "text/html": [
       "<div>\n",
       "<style>\n",
       "    .dataframe thead tr:only-child th {\n",
       "        text-align: right;\n",
       "    }\n",
       "\n",
       "    .dataframe thead th {\n",
       "        text-align: left;\n",
       "    }\n",
       "\n",
       "    .dataframe tbody tr th {\n",
       "        vertical-align: top;\n",
       "    }\n",
       "</style>\n",
       "<table border=\"1\" class=\"dataframe\">\n",
       "  <thead>\n",
       "    <tr style=\"text-align: right;\">\n",
       "      <th></th>\n",
       "      <th>sepallength</th>\n",
       "      <th>sepalwidth</th>\n",
       "      <th>petallength</th>\n",
       "      <th>petalwidth</th>\n",
       "      <th>class</th>\n",
       "    </tr>\n",
       "  </thead>\n",
       "  <tbody>\n",
       "    <tr>\n",
       "      <th>0</th>\n",
       "      <td>5.1</td>\n",
       "      <td>3.5</td>\n",
       "      <td>1.4</td>\n",
       "      <td>0.2</td>\n",
       "      <td>Iris-setosa</td>\n",
       "    </tr>\n",
       "    <tr>\n",
       "      <th>1</th>\n",
       "      <td>4.9</td>\n",
       "      <td>3.0</td>\n",
       "      <td>1.4</td>\n",
       "      <td>0.2</td>\n",
       "      <td>Iris-setosa</td>\n",
       "    </tr>\n",
       "    <tr>\n",
       "      <th>2</th>\n",
       "      <td>4.7</td>\n",
       "      <td>3.2</td>\n",
       "      <td>1.3</td>\n",
       "      <td>0.2</td>\n",
       "      <td>Iris-setosa</td>\n",
       "    </tr>\n",
       "    <tr>\n",
       "      <th>3</th>\n",
       "      <td>4.6</td>\n",
       "      <td>3.1</td>\n",
       "      <td>1.5</td>\n",
       "      <td>0.2</td>\n",
       "      <td>Iris-setosa</td>\n",
       "    </tr>\n",
       "    <tr>\n",
       "      <th>4</th>\n",
       "      <td>5.0</td>\n",
       "      <td>3.6</td>\n",
       "      <td>1.4</td>\n",
       "      <td>0.2</td>\n",
       "      <td>Iris-setosa</td>\n",
       "    </tr>\n",
       "  </tbody>\n",
       "</table>\n",
       "</div>"
      ],
      "text/plain": [
       "   sepallength  sepalwidth  petallength  petalwidth        class\n",
       "0          5.1         3.5          1.4         0.2  Iris-setosa\n",
       "1          4.9         3.0          1.4         0.2  Iris-setosa\n",
       "2          4.7         3.2          1.3         0.2  Iris-setosa\n",
       "3          4.6         3.1          1.5         0.2  Iris-setosa\n",
       "4          5.0         3.6          1.4         0.2  Iris-setosa"
      ]
     },
     "execution_count": 14,
     "metadata": {},
     "output_type": "execute_result"
    }
   ],
   "source": [
    "#Load in the Data\n",
    "iris = pd.read_csv(\"https://archive.ics.uci.edu/ml/machine-learning-databases/iris/iris.data\",\n",
    "                   header=None,names=[\"sepallength\",\"sepalwidth\",\"petallength\",\"petalwidth\",\"class\"])\n",
    "iris.head()"
   ]
  },
  {
   "cell_type": "code",
   "execution_count": 12,
   "metadata": {},
   "outputs": [
    {
     "data": {
      "text/plain": [
       "Iris-setosa        50\n",
       "Iris-virginica     50\n",
       "Iris-versicolor    50\n",
       "Name: class, dtype: int64"
      ]
     },
     "execution_count": 12,
     "metadata": {},
     "output_type": "execute_result"
    }
   ],
   "source": [
    "iris[\"class\"].value_counts()"
   ]
  },
  {
   "cell_type": "code",
   "execution_count": 44,
   "metadata": {},
   "outputs": [],
   "source": [
    "#Convert class labels to Numbers\n",
    "#The zip() function take iterables (can be zero or more), makes iterator that aggregates \n",
    "#elements based on the iterables passed, and returns an iterator of tuples.\n",
    "dic = dict(zip(iris[\"class\"].unique(),range(1,4)))\n",
    "dic    \n",
    "   \n",
    "iris[\"class\"] = iris[\"class\"].map(dic)    "
   ]
  },
  {
   "cell_type": "code",
   "execution_count": 46,
   "metadata": {},
   "outputs": [
    {
     "data": {
      "text/html": [
       "<div>\n",
       "<style>\n",
       "    .dataframe thead tr:only-child th {\n",
       "        text-align: right;\n",
       "    }\n",
       "\n",
       "    .dataframe thead th {\n",
       "        text-align: left;\n",
       "    }\n",
       "\n",
       "    .dataframe tbody tr th {\n",
       "        vertical-align: top;\n",
       "    }\n",
       "</style>\n",
       "<table border=\"1\" class=\"dataframe\">\n",
       "  <thead>\n",
       "    <tr style=\"text-align: right;\">\n",
       "      <th></th>\n",
       "      <th>sepallength</th>\n",
       "      <th>sepalwidth</th>\n",
       "      <th>petallength</th>\n",
       "      <th>petalwidth</th>\n",
       "      <th>class</th>\n",
       "    </tr>\n",
       "  </thead>\n",
       "  <tbody>\n",
       "    <tr>\n",
       "      <th>0</th>\n",
       "      <td>5.1</td>\n",
       "      <td>3.5</td>\n",
       "      <td>1.4</td>\n",
       "      <td>0.2</td>\n",
       "      <td>1</td>\n",
       "    </tr>\n",
       "    <tr>\n",
       "      <th>1</th>\n",
       "      <td>4.9</td>\n",
       "      <td>3.0</td>\n",
       "      <td>1.4</td>\n",
       "      <td>0.2</td>\n",
       "      <td>1</td>\n",
       "    </tr>\n",
       "    <tr>\n",
       "      <th>2</th>\n",
       "      <td>4.7</td>\n",
       "      <td>3.2</td>\n",
       "      <td>1.3</td>\n",
       "      <td>0.2</td>\n",
       "      <td>1</td>\n",
       "    </tr>\n",
       "    <tr>\n",
       "      <th>3</th>\n",
       "      <td>4.6</td>\n",
       "      <td>3.1</td>\n",
       "      <td>1.5</td>\n",
       "      <td>0.2</td>\n",
       "      <td>1</td>\n",
       "    </tr>\n",
       "    <tr>\n",
       "      <th>4</th>\n",
       "      <td>5.0</td>\n",
       "      <td>3.6</td>\n",
       "      <td>1.4</td>\n",
       "      <td>0.2</td>\n",
       "      <td>1</td>\n",
       "    </tr>\n",
       "  </tbody>\n",
       "</table>\n",
       "</div>"
      ],
      "text/plain": [
       "   sepallength  sepalwidth  petallength  petalwidth  class\n",
       "0          5.1         3.5          1.4         0.2      1\n",
       "1          4.9         3.0          1.4         0.2      1\n",
       "2          4.7         3.2          1.3         0.2      1\n",
       "3          4.6         3.1          1.5         0.2      1\n",
       "4          5.0         3.6          1.4         0.2      1"
      ]
     },
     "execution_count": 46,
     "metadata": {},
     "output_type": "execute_result"
    }
   ],
   "source": [
    "iris.head()"
   ]
  },
  {
   "cell_type": "code",
   "execution_count": 213,
   "metadata": {
    "collapsed": true
   },
   "outputs": [],
   "source": [
    "X=iris.iloc[:,0:4].values\n",
    "y= iris[\"class\"].values"
   ]
  },
  {
   "cell_type": "code",
   "execution_count": 214,
   "metadata": {},
   "outputs": [
    {
     "data": {
      "image/png": "[encoded data removed]",
      "text/plain": [
       "<matplotlib.figure.Figure at 0x1673952c5f8>"
      ]
     },
     "metadata": {},
     "output_type": "display_data"
    }
   ],
   "source": [
    "fig,axes = plt.subplots(2,2,figsize=(12,6))\n",
    "\n",
    "for ax,i in zip(axes.ravel(),range(4)):\n",
    "    ax.hist(X[:,i],bins=25)\n",
    "    ax.set_xlabel(iris.columns.tolist()[i])\n"
   ]
  },
  {
   "cell_type": "code",
   "execution_count": 215,
   "metadata": {},
   "outputs": [
    {
     "data": {
      "image/png": "[encoded data removed]",
      "text/plain": [
       "<matplotlib.figure.Figure at 0x1673990ce80>"
      ]
     },
     "metadata": {},
     "output_type": "display_data"
    }
   ],
   "source": [
    "fig,axes = plt.subplots(2,2,figsize=(12,6))\n",
    "\n",
    "for ax,i in zip(axes.ravel(),range(0,4)):\n",
    "    for lab in range(1,4):\n",
    "        bins =np.linspace(math.floor(np.min(X[:,i])),math.ceil(np.max(X[:,i])),25)  \n",
    "        #Set bins, we take the minimum and the maximum of the data, then create n \n",
    "        #equal bins using linspace. \n",
    "        ax.hist(X[y==lab,i],bins=bins,alpha=.7)\n",
    "        \n",
    "    #Increase white space above plot    \n",
    "    ylims = ax.get_ylim()\n",
    "    ax.set_ylim([0, max(ylims)+2])\n",
    "    \n",
    "    #Set label and Plot Title\n",
    "    ax.set_xlabel(iris.columns.tolist()[i])\n",
    "    ax.set_title(\"Iris Histogram %s\" %str(i))\n",
    "    \n",
    "    #Get Legend\n",
    "    ax.legend(loc='upper right', fancybox=True, fontsize=8)\n",
    "\n",
    "#Checks if any plot elements are overlapping or outsied the figure.    \n",
    "fig.tight_layout()\n",
    "    "
   ]
  },
  {
   "cell_type": "code",
   "execution_count": 263,
   "metadata": {},
   "outputs": [],
   "source": [
    "#Computing the d-dimensional mean vector\n",
    "#Since we have three classes and 4 dimensions, we get a 3X4 array.\n",
    "#First Row gives the mean of all columns for data belonging to class 1.\n",
    "\n",
    "np.set_printoptions(precision=4)\n",
    "vec = []\n",
    "meanvec = []\n",
    "\n",
    "for cl in range(1,4):\n",
    "    for i in range(4):\n",
    "        vec.append(X[y==cl,i].mean(axis=0)) \n",
    "    meanvec.append(vec)\n",
    "    vec= []\n",
    "\n",
    "meanvec = np.array(meanvec)"
   ]
  },
  {
   "cell_type": "code",
   "execution_count": 264,
   "metadata": {},
   "outputs": [
    {
     "name": "stdout",
     "output_type": "stream",
     "text": [
      "[[ 5.006  3.418  1.464  0.244]\n",
      " [ 5.936  2.77   4.26   1.326]\n",
      " [ 6.588  2.974  5.552  2.026]]\n"
     ]
    },
    {
     "data": {
      "text/plain": [
       "(3, 4)"
      ]
     },
     "execution_count": 264,
     "metadata": {},
     "output_type": "execute_result"
    }
   ],
   "source": [
    "print(meanvec)\n",
    "meanvec.shape"
   ]
  },
  {
   "cell_type": "code",
   "execution_count": 273,
   "metadata": {},
   "outputs": [
    {
     "data": {
      "text/plain": [
       "array([ 5.006,  3.418,  1.464,  0.244])"
      ]
     },
     "execution_count": 273,
     "metadata": {},
     "output_type": "execute_result"
    }
   ],
   "source": [
    "meanvec[0]"
   ]
  },
  {
   "cell_type": "code",
   "execution_count": null,
   "metadata": {
    "collapsed": true
   },
   "outputs": [],
   "source": [
    "#Computing the Total Within class Scatter Matrix Sw.\n",
    "#Which is the Summation of the Scatter Matrix of each of the classes, so in this case S1+S2+S3\n",
    "#In general when calculating the matrices we assume that each feature vector is a row,\n",
    "#hence we do (X-meanvec) dot Transpose(X-meanvec) but since our X has feature vectors as columns,\n",
    "#we do the opposite i.e scattermat = Transpose(X-meanvec) dot (X-meanvec).\n",
    "\n",
    "sw = np.zeros((4,4))\n",
    "for cl in range(1,4):\n",
    "    scatmat = np.dot(((X[y==cl]-meanvec[cl-1]).T),(X[y==cl]-meanvec[cl-1]))\n",
    "    sw+= scatmat"
   ]
  },
  {
   "cell_type": "code",
   "execution_count": 312,
   "metadata": {},
   "outputs": [
    {
     "data": {
      "text/plain": [
       "array([[ 38.9562,  13.683 ,  24.614 ,   5.6556],\n",
       "       [ 13.683 ,  17.035 ,   8.12  ,   4.9132],\n",
       "       [ 24.614 ,   8.12  ,  27.22  ,   6.2536],\n",
       "       [  5.6556,   4.9132,   6.2536,   6.1756]])"
      ]
     },
     "execution_count": 312,
     "metadata": {},
     "output_type": "execute_result"
    }
   ],
   "source": [
    "sw"
   ]
  },
  {
   "cell_type": "code",
   "execution_count": 337,
   "metadata": {},
   "outputs": [],
   "source": [
    "#Computing the Between Scatter Matrix\n",
    "sb = np.zeros((4,4))\n",
    "overallmean = np.mean(X,axis=0).reshape(4,1)\n",
    "\n",
    "\n",
    "for cl in range(1,4):\n",
    "    betscatmat =len(X[y==cl])*np.dot((meanvec[cl-1].reshape(4,1)-overallmean),(meanvec[cl-1].reshape(4,1)-overallmean).T)\n",
    "    sb += betscatmat\n",
    "\n"
   ]
  },
  {
   "cell_type": "code",
   "execution_count": 338,
   "metadata": {},
   "outputs": [
    {
     "data": {
      "text/plain": [
       "array([[  63.2121,  -19.534 ,  165.1647,   71.3631],\n",
       "       [ -19.534 ,   10.9776,  -56.0552,  -22.4924],\n",
       "       [ 165.1647,  -56.0552,  436.6437,  186.9081],\n",
       "       [  71.3631,  -22.4924,  186.9081,   80.6041]])"
      ]
     },
     "execution_count": 338,
     "metadata": {},
     "output_type": "execute_result"
    }
   ],
   "source": [
    "sb"
   ]
  },
  {
   "cell_type": "markdown",
   "metadata": {},
   "source": [
    "Now That we have both the Within class Scatter Matrix and Between class Scatter Matrix,\n",
    "We solve the EigenValue problem for the matrix $S_{W}^{-1}$$S_{B}$ to obtain the Linear Discriminants.\n",
    "\n",
    "We do this because we want to maximise the ratio \n",
    "\n",
    "$\\frac{Between CLass Scatter}{Within CLass Scatter}$, so that different classes of data are as farther apart as possible and we also minimse the scatter within the classes. "
   ]
  },
  {
   "cell_type": "code",
   "execution_count": 433,
   "metadata": {},
   "outputs": [],
   "source": [
    "eigvals,eigvecs = np.linalg.eig(np.dot(np.linalg.inv(sw),sb))"
   ]
  },
  {
   "cell_type": "code",
   "execution_count": 434,
   "metadata": {},
   "outputs": [
    {
     "name": "stdout",
     "output_type": "stream",
     "text": [
      "[[-0.2049 -0.009   0.6834  0.6834]\n",
      " [-0.3871 -0.589  -0.1589 -0.1589]\n",
      " [ 0.5465  0.2543 -0.125  -0.125 ]\n",
      " [ 0.7138 -0.767  -0.3594 -0.3594]]\n",
      "[  3.2272e+01   2.7757e-01  -2.4444e-15  -2.4444e-15]\n"
     ]
    }
   ],
   "source": [
    "print(eigvecs.real)\n",
    "print(eigvals.real)"
   ]
  },
  {
   "cell_type": "code",
   "execution_count": 435,
   "metadata": {},
   "outputs": [
    {
     "name": "stdout",
     "output_type": "stream",
     "text": [
      "EigenVector 1, \n",
      " [[-0.2049]\n",
      " [-0.3871]\n",
      " [ 0.5465]\n",
      " [ 0.7138]]\n",
      "Eigen Value: 32.27195779972986 \n",
      "\n",
      "EigenVector 2, \n",
      " [[-0.009 ]\n",
      " [-0.589 ]\n",
      " [ 0.2543]\n",
      " [-0.767 ]]\n",
      "Eigen Value: 0.2775668638400537 \n",
      "\n",
      "EigenVector 3, \n",
      " [[ 0.6834]\n",
      " [-0.1589]\n",
      " [-0.125 ]\n",
      " [-0.3594]]\n",
      "Eigen Value: -2.4444407463775655e-15 \n",
      "\n",
      "EigenVector 4, \n",
      " [[ 0.6834]\n",
      " [-0.1589]\n",
      " [-0.125 ]\n",
      " [-0.3594]]\n",
      "Eigen Value: -2.4444407463775655e-15 \n",
      "\n"
     ]
    }
   ],
   "source": [
    "np.set_printoptions(precision=4)\n",
    "\n",
    "for i in range(0,4):\n",
    "    print(\"EigenVector {}, \\n {}\".format(i+1,eigvecs[:,i].real.reshape(4,1)))\n",
    "    print(\"Eigen Value: {} \\n\".format(eigvals.real[i]))"
   ]
  },
  {
   "cell_type": "markdown",
   "metadata": {},
   "source": [
    "The Eigen Vectors form the new axes in our new feature subspace and the corresponding eigen values \n",
    "tell us how informative the new axes are.\n",
    "The Eigen Vectors with the lowest values provide us with the least information, so the best practice is to select Eigen Vectors with the highest values."
   ]
  },
  {
   "cell_type": "code",
   "execution_count": 454,
   "metadata": {},
   "outputs": [
    {
     "data": {
      "text/plain": [
       "[(32.271957799729861,\n",
       "  array([-0.2049+0.j, -0.3871+0.j,  0.5465+0.j,  0.7138+0.j])),\n",
       " (0.27756686384005369,\n",
       "  array([-0.0090+0.j, -0.5890+0.j,  0.2543+0.j, -0.7670+0.j])),\n",
       " (3.9969886852891346e-15,\n",
       "  array([ 0.6834+0.j    , -0.1589-0.2032j, -0.1250-0.245j , -0.3594+0.5114j])),\n",
       " (3.9969886852891346e-15,\n",
       "  array([ 0.6834-0.j    , -0.1589+0.2032j, -0.1250+0.245j , -0.3594-0.5114j]))]"
      ]
     },
     "execution_count": 454,
     "metadata": {},
     "output_type": "execute_result"
    }
   ],
   "source": [
    "eigpairs = [(np.abs(eigvals[i]),eigvecs[:,i]) for i in range(len(eigvals))]\n",
    "eigpairs"
   ]
  },
  {
   "cell_type": "code",
   "execution_count": 476,
   "metadata": {},
   "outputs": [
    {
     "data": {
      "text/plain": [
       "[32.271957799729861,\n",
       " 0.27756686384005369,\n",
       " 3.9969886852891346e-15,\n",
       " 3.9969886852891346e-15]"
      ]
     },
     "execution_count": 476,
     "metadata": {},
     "output_type": "execute_result"
    }
   ],
   "source": [
    "sortedpairs = sorted(eigpairs, key= lambda k: k[0],reverse=True)\n",
    "[sortedpairs[row][0] for row in range(len(sortedpairs))]"
   ]
  },
  {
   "cell_type": "markdown",
   "metadata": {},
   "source": [
    "The eigenvalues of the last two eigenvectors is almost zero, they are in fact zero.\n",
    "In LDA the number of Linear Discriminants is at most c-1, where c is the number of class labels. \n",
    "Now let's look at the percentage of variance explained by these eigenvectors."
   ]
  },
  {
   "cell_type": "code",
   "execution_count": 517,
   "metadata": {},
   "outputs": [
    {
     "name": "stdout",
     "output_type": "stream",
     "text": [
      "99.15 %\n",
      "0.85 %\n",
      "0.00 %\n",
      "0.00 %\n"
     ]
    }
   ],
   "source": [
    "varexp =np.abs(eigvals.real*100)/sum(eigvals.real)\n",
    "for i in range(len(varexp)):\n",
    "    print(\"%.2f %%\"  % varexp[i])b\n",
    "        "
   ]
  },
  {
   "cell_type": "code",
   "execution_count": 526,
   "metadata": {},
   "outputs": [
    {
     "data": {
      "text/plain": [
       "array([  9.9147e+01,   8.5275e-01,   7.5099e-15,   7.5099e-15])"
      ]
     },
     "execution_count": 526,
     "metadata": {},
     "output_type": "execute_result"
    }
   ],
   "source": [
    "varexp"
   ]
  },
  {
   "cell_type": "code",
   "execution_count": 572,
   "metadata": {
    "scrolled": true
   },
   "outputs": [
    {
     "data": {
      "image/png": "[encoded data removed]",
      "text/plain": [
       "<matplotlib.figure.Figure at 0x1673afc6160>"
      ]
     },
     "metadata": {},
     "output_type": "display_data"
    }
   ],
   "source": [
    "fig =plt.figure(figsize=(4,4))\n",
    "plt.scatter(range(1,5),varexp)\n",
    "plt.plot(range(1,5),varexp)\n",
    "plt.xlabel(\"No. of Discriminants\")\n",
    "plt.ylabel(\"%Variance Explained\")\n",
    "fig=plt.xticks(range(1,5))"
   ]
  },
  {
   "cell_type": "markdown",
   "metadata": {},
   "source": [
    "We can see that the first eigenvector is the most informative. \n",
    "Let's use the first two eigen vectors to transform the original Data."
   ]
  },
  {
   "cell_type": "code",
   "execution_count": 609,
   "metadata": {},
   "outputs": [
    {
     "name": "stdout",
     "output_type": "stream",
     "text": [
      "[[-0.2049 -0.009 ]\n",
      " [-0.3871 -0.589 ]\n",
      " [ 0.5465  0.2543]\n",
      " [ 0.7138 -0.767 ]]\n"
     ]
    }
   ],
   "source": [
    "W =np.concatenate((eigpairs[0][1].real.reshape(4,1),eigpairs[1][1].real.reshape(4,1)),axis=1)\n",
    "print(W)"
   ]
  },
  {
   "cell_type": "markdown",
   "metadata": {},
   "source": [
    "Now we transform our data into this new subspace using \n",
    "Y = X * W"
   ]
  },
  {
   "cell_type": "code",
   "execution_count": 611,
   "metadata": {},
   "outputs": [
    {
     "data": {
      "text/plain": [
       "(150, 2)"
      ]
     },
     "execution_count": 611,
     "metadata": {},
     "output_type": "execute_result"
    }
   ],
   "source": [
    "X_lda = np.dot(X,W)\n",
    "X_lda.shape"
   ]
  },
  {
   "cell_type": "code",
   "execution_count": 671,
   "metadata": {},
   "outputs": [
    {
     "data": {
      "image/png": "[encoded data removed]",
      "text/plain": [
       "<matplotlib.figure.Figure at 0x16739bd70f0>"
      ]
     },
     "metadata": {},
     "output_type": "display_data"
    }
   ],
   "source": [
    "#Plotting the two New features i.e. the Linear Discriminants.\n",
    "fig= plt.figure(figsize=(6,4))\n",
    "for cl,color,label in zip(range(1,4),(\"blue\",\"red\",\"green\"),(\"Setosa\",\"Versicolor\",\"Virginica\")):\n",
    "    plt.scatter(X_lda[y==cl,0],X_lda[y==cl,1],c=color,label=label)\n",
    "    \n",
    "plt.legend(loc=\"upper right\",fancybox=True)    \n",
    "plt.xlabel(\"LDA 1\")\n",
    "plt.ylabel(\"LDA 2\")\n",
    "plt.title(\"iris data projected onto the first two Linear Discriminants\")\n",
    "plt.tight_layout()"
   ]
  },
  {
   "cell_type": "markdown",
   "metadata": {},
   "source": [
    "Comparing LDA and PCA,\n",
    "While PCA finds the axes in the subspace that maximise the variance of the data, LDA finds the axes which maximise the separation between classes. \n",
    "LDA is supervised since it uses the class labels to maximise separation between them while PCA is unsupervised. "
   ]
  },
  {
   "cell_type": "code",
   "execution_count": 716,
   "metadata": {
    "collapsed": true
   },
   "outputs": [],
   "source": [
    "#Import PCA and LDA from sklearn\n",
    "from sklearn.decomposition import PCA\n",
    "from sklearn.discriminant_analysis import LinearDiscriminantAnalysis"
   ]
  },
  {
   "cell_type": "code",
   "execution_count": 711,
   "metadata": {},
   "outputs": [
    {
     "data": {
      "text/plain": [
       "(150, 2)"
      ]
     },
     "execution_count": 711,
     "metadata": {},
     "output_type": "execute_result"
    }
   ],
   "source": [
    "#PCA\n",
    "\n",
    "#Create a PCA instance\n",
    "pca = PCA(n_components=2)\n",
    "\n",
    "#Fit the X data to find the Principal components and transform the original d-dimensional data\n",
    "#into the smaller subspace\n",
    "X_pca=pca.fit_transform(X)\n",
    "\n",
    "X_pca.shape"
   ]
  },
  {
   "cell_type": "code",
   "execution_count": 720,
   "metadata": {},
   "outputs": [
    {
     "data": {
      "text/plain": [
       "(150, 2)"
      ]
     },
     "execution_count": 720,
     "metadata": {},
     "output_type": "execute_result"
    }
   ],
   "source": [
    "#LDA\n",
    "\n",
    "#Create an LDA instance\n",
    "lda = LinearDiscriminantAnalysis(n_components=2)\n",
    "\n",
    "#Fit the X data to find the Linear Discriminants and transform the original d-dimensional data\n",
    "#into the smaller subspace\n",
    "X_lda2=lda.fit_transform(X,y)\n",
    "X_lda2.shape"
   ]
  },
  {
   "cell_type": "code",
   "execution_count": 727,
   "metadata": {},
   "outputs": [
    {
     "data": {
      "text/plain": [
       "<matplotlib.legend.Legend at 0x1673daf4c88>"
      ]
     },
     "execution_count": 727,
     "metadata": {},
     "output_type": "execute_result"
    },
    {
     "data": {
      "image/png": "[encoded data removed]",
      "text/plain": [
       "<matplotlib.figure.Figure at 0x167397b3390>"
      ]
     },
     "metadata": {},
     "output_type": "display_data"
    }
   ],
   "source": [
    "#Side by Side comparison of both the plots of LDA and PCA.\n",
    "\n",
    "fig,axes = plt.subplots(1,2,sharex=\"col\",figsize=(14,4))\n",
    "for cl,color,marker,label in zip(range(1,4),(\"blue\",\"red\",\"green\"),('^','s','o'),\n",
    "                                 (\"Setosa\",\"Versicolor\",\"Virginica\")):\n",
    "    axes[0].scatter(X_lda2[y==cl,0],X_lda2[y==cl,1],c=color,marker=marker,label=label,alpha=.5)\n",
    "    \n",
    "axes[0].set_xlabel(\"LDA1\")    \n",
    "axes[0].set_ylabel(\"LDA2\")    \n",
    "axes[0].set_title(\"LDA plot\")\n",
    "axes[0].legend(loc=\"upper right\",fancybox=True)   \n",
    "#axes[0].set_ylim(-2.6,-1.2)\n",
    "\n",
    "\n",
    "for cl,color,marker,label in zip(range(1,4),(\"blue\",\"red\",\"green\"),('^','s','o'),\n",
    "                                 (\"Setosa\",\"Versicolor\",\"Virginica\")):\n",
    "    axes[1].scatter(X_pca[y==cl,0],X_pca[y==cl,1],c=color,marker=marker,label=label,alpha=.5)\n",
    "\n",
    "axes[1].set_xlabel(\"PCA1\")    \n",
    "axes[1].set_ylabel(\"PCA2\")    \n",
    "axes[1].set_title(\"PCA plot\")\n",
    "axes[1].legend(loc=\"upper right\",fancybox=True)    \n",
    "#axes[1].set_ylim(-1,1.5)    "
   ]
  },
  {
   "cell_type": "markdown",
   "metadata": {},
   "source": [
    "From the above plot we can clearly see that LDA does a better job of seperating the classes while PCA transforms the axes along the directions of most variance in the entire data. "
   ]
  },
  {
   "cell_type": "markdown",
   "metadata": {},
   "source": [
    "Feature Scaling such as normalisation or standardization does not change the overall results of LDA, though the Eigen Vectors and the scatter Matrices will change, the eigen values remain the same and the projections also look similar except for different scaling of the axes."
   ]
  }
 ],
 "metadata": {
  "kernelspec": {
   "display_name": "Python 3",
   "language": "python",
   "name": "python3"
  },
  "language_info": {
   "codemirror_mode": {
    "name": "ipython",
    "version": 3
   },
   "file_extension": ".py",
   "mimetype": "text/x-python",
   "name": "python",
   "nbconvert_exporter": "python",
   "pygments_lexer": "ipython3",
   "version": "3.6.3"
  }
 },
 "nbformat": 4,
 "nbformat_minor": 2
}
